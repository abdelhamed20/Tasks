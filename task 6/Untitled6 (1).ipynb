{
 "cells": [
  {
   "cell_type": "code",
   "execution_count": 45,
   "id": "701949ba",
   "metadata": {},
   "outputs": [
    {
     "name": "stdout",
     "output_type": "stream",
     "text": [
      "Ahmed Hafez 01023456789 ahmed@gmail.com\n",
      "Ali Osama 01024342342 ali@gmail.com\n"
     ]
    }
   ],
   "source": [
    "f = open(\"Text.txt\", \"r\")\n",
    "file1 = f.read()\n",
    "print(file1)"
   ]
  },
  {
   "cell_type": "code",
   "execution_count": 46,
   "id": "8b64ee60",
   "metadata": {},
   "outputs": [],
   "source": [
    "import re"
   ]
  },
  {
   "cell_type": "code",
   "execution_count": 47,
   "id": "de1d284c",
   "metadata": {},
   "outputs": [
    {
     "name": "stdout",
     "output_type": "stream",
     "text": [
      "Ahmed Hafez 01023456789 ahmed@gmail.com\n",
      "Ali Osama 01024342342 ali@gmail.com\n"
     ]
    }
   ],
   "source": [
    "print(file1)"
   ]
  },
  {
   "cell_type": "code",
   "execution_count": 48,
   "id": "9f77fea8",
   "metadata": {},
   "outputs": [
    {
     "data": {
      "text/plain": [
       "['ahmed@gmail.com', 'ali@gmail.com']"
      ]
     },
     "execution_count": 48,
     "metadata": {},
     "output_type": "execute_result"
    }
   ],
   "source": [
    "pattern = re.compile(r'[a-zA-Z.-]+@[a-zA-Z-]+\\.com')\n",
    "matches = pattern.finditer(file1)\n",
    "Email = []\n",
    "for match in matches:\n",
    "    start = match.span()[0]\n",
    "    end = match.span()[1]\n",
    "    Email.append(file1[start:end])\n",
    "Email"
   ]
  },
  {
   "cell_type": "code",
   "execution_count": 49,
   "id": "905b5732",
   "metadata": {},
   "outputs": [
    {
     "data": {
      "text/plain": [
       "['01023456789', '01024342342']"
      ]
     },
     "execution_count": 49,
     "metadata": {},
     "output_type": "execute_result"
    }
   ],
   "source": [
    "pattern = re.compile(r'\\d{11}')\n",
    "matches = pattern.finditer(file1)\n",
    "Number = []\n",
    "for match in matches:\n",
    "    start = match.span()[0]\n",
    "    end = match.span()[1]\n",
    "    Number.append(file1[start:end])\n",
    "Number"
   ]
  },
  {
   "cell_type": "code",
   "execution_count": 53,
   "id": "f953a805",
   "metadata": {},
   "outputs": [
    {
     "data": {
      "text/plain": [
       "['Ahmed Hafez', 'Ali Osama']"
      ]
     },
     "execution_count": 53,
     "metadata": {},
     "output_type": "execute_result"
    }
   ],
   "source": [
    "pattern = re.compile('[A-Z][a-z]+\\s[A-Za-z]+')\n",
    "matches = pattern.finditer(file1)\n",
    "names = []\n",
    "for match in matches:\n",
    "    start = match.span()[0]\n",
    "    end = match.span()[1]\n",
    "    names.append(file1[start:end])\n",
    "names"
   ]
  },
  {
   "cell_type": "code",
   "execution_count": null,
   "id": "8ef4b8b1",
   "metadata": {},
   "outputs": [],
   "source": []
  }
 ],
 "metadata": {
  "kernelspec": {
   "display_name": "Python 3 (ipykernel)",
   "language": "python",
   "name": "python3"
  },
  "language_info": {
   "codemirror_mode": {
    "name": "ipython",
    "version": 3
   },
   "file_extension": ".py",
   "mimetype": "text/x-python",
   "name": "python",
   "nbconvert_exporter": "python",
   "pygments_lexer": "ipython3",
   "version": "3.11.3"
  }
 },
 "nbformat": 4,
 "nbformat_minor": 5
}
